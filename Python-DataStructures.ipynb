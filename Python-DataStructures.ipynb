{
 "cells": [
  {
   "cell_type": "code",
   "execution_count": 1,
   "id": "7e55dd31-a498-41b9-8af8-db482e086da6",
   "metadata": {},
   "outputs": [
    {
     "data": {
      "text/plain": [
       "4"
      ]
     },
     "execution_count": 1,
     "metadata": {},
     "output_type": "execute_result"
    }
   ],
   "source": [
    "2+2"
   ]
  },
  {
   "cell_type": "code",
   "execution_count": 2,
   "id": "cc3f2893-909d-427f-a49a-10e2ae41b17d",
   "metadata": {},
   "outputs": [
    {
     "data": {
      "text/plain": [
       "40"
      ]
     },
     "execution_count": 2,
     "metadata": {},
     "output_type": "execute_result"
    }
   ],
   "source": [
    "5*8"
   ]
  },
  {
   "cell_type": "code",
   "execution_count": 3,
   "id": "7cf58327-8530-4997-ae9f-450ae0886ae8",
   "metadata": {},
   "outputs": [],
   "source": [
    "a=10"
   ]
  },
  {
   "cell_type": "code",
   "execution_count": 4,
   "id": "37375777-492e-4ff2-8424-f364d3ff90a9",
   "metadata": {},
   "outputs": [
    {
     "data": {
      "text/plain": [
       "10"
      ]
     },
     "execution_count": 4,
     "metadata": {},
     "output_type": "execute_result"
    }
   ],
   "source": [
    "a"
   ]
  },
  {
   "cell_type": "code",
   "execution_count": 5,
   "id": "51800bd3-4b6d-4462-9d7f-12eec64bb0fc",
   "metadata": {},
   "outputs": [],
   "source": [
    "b= \"ananya\""
   ]
  },
  {
   "cell_type": "code",
   "execution_count": 6,
   "id": "e201f69f-ff02-4bc9-ae75-858781d9b53a",
   "metadata": {},
   "outputs": [
    {
     "data": {
      "text/plain": [
       "'ananya'"
      ]
     },
     "execution_count": 6,
     "metadata": {},
     "output_type": "execute_result"
    }
   ],
   "source": [
    "b"
   ]
  },
  {
   "cell_type": "code",
   "execution_count": 7,
   "id": "36218d31-ca53-4320-ac7b-ed20c877564b",
   "metadata": {},
   "outputs": [
    {
     "data": {
      "text/plain": [
       "int"
      ]
     },
     "execution_count": 7,
     "metadata": {},
     "output_type": "execute_result"
    }
   ],
   "source": [
    "type(a)"
   ]
  },
  {
   "cell_type": "code",
   "execution_count": 8,
   "id": "7546eca8-4878-4f99-a966-25df5c64a8b0",
   "metadata": {},
   "outputs": [
    {
     "data": {
      "text/plain": [
       "str"
      ]
     },
     "execution_count": 8,
     "metadata": {},
     "output_type": "execute_result"
    }
   ],
   "source": [
    "type(b)"
   ]
  },
  {
   "cell_type": "code",
   "execution_count": 9,
   "id": "88315e49-2aeb-497c-a249-8d620e3c7d8a",
   "metadata": {},
   "outputs": [
    {
     "data": {
      "text/plain": [
       "float"
      ]
     },
     "execution_count": 9,
     "metadata": {},
     "output_type": "execute_result"
    }
   ],
   "source": [
    "type(34.98)"
   ]
  },
  {
   "cell_type": "code",
   "execution_count": 10,
   "id": "efa11d66-14b6-4f58-96d7-d86c1f75355e",
   "metadata": {},
   "outputs": [],
   "source": [
    "c= True\n",
    "d= \"true\""
   ]
  },
  {
   "cell_type": "code",
   "execution_count": 11,
   "id": "c406451b-91d5-4282-ae04-ae8c6d4791d4",
   "metadata": {},
   "outputs": [
    {
     "data": {
      "text/plain": [
       "bool"
      ]
     },
     "execution_count": 11,
     "metadata": {},
     "output_type": "execute_result"
    }
   ],
   "source": [
    "type(c)"
   ]
  },
  {
   "cell_type": "code",
   "execution_count": 12,
   "id": "928e82af-0d92-4761-9849-795de1730465",
   "metadata": {},
   "outputs": [
    {
     "data": {
      "text/plain": [
       "str"
      ]
     },
     "execution_count": 12,
     "metadata": {},
     "output_type": "execute_result"
    }
   ],
   "source": [
    "type(d)"
   ]
  },
  {
   "cell_type": "code",
   "execution_count": 13,
   "id": "ae54c23b-30dc-4547-a96f-ca8b82182720",
   "metadata": {},
   "outputs": [],
   "source": [
    "e= False"
   ]
  },
  {
   "cell_type": "code",
   "execution_count": 14,
   "id": "315eef1a-cc69-4f79-aa4e-15d8f1968935",
   "metadata": {},
   "outputs": [
    {
     "data": {
      "text/plain": [
       "1"
      ]
     },
     "execution_count": 14,
     "metadata": {},
     "output_type": "execute_result"
    }
   ],
   "source": [
    "c+e"
   ]
  },
  {
   "cell_type": "code",
   "execution_count": 15,
   "id": "4010aad0-893a-42ab-b008-96a62cdd0d92",
   "metadata": {},
   "outputs": [
    {
     "data": {
      "text/plain": [
       "0"
      ]
     },
     "execution_count": 15,
     "metadata": {},
     "output_type": "execute_result"
    }
   ],
   "source": [
    "c*e"
   ]
  },
  {
   "cell_type": "code",
   "execution_count": 16,
   "id": "ca6da49a-4e79-4e4d-b682-51643cca96b0",
   "metadata": {},
   "outputs": [
    {
     "data": {
      "text/plain": [
       "1"
      ]
     },
     "execution_count": 16,
     "metadata": {},
     "output_type": "execute_result"
    }
   ],
   "source": [
    "c*c"
   ]
  },
  {
   "cell_type": "code",
   "execution_count": 17,
   "id": "8a39524d-ce88-4e91-9700-5f3243d4a5c1",
   "metadata": {},
   "outputs": [
    {
     "data": {
      "text/plain": [
       "0"
      ]
     },
     "execution_count": 17,
     "metadata": {},
     "output_type": "execute_result"
    }
   ],
   "source": [
    "e*e"
   ]
  },
  {
   "cell_type": "code",
   "execution_count": 18,
   "id": "f86fbe8b-d8b4-41d2-8ebc-166619cf3aba",
   "metadata": {},
   "outputs": [
    {
     "data": {
      "text/plain": [
       "complex"
      ]
     },
     "execution_count": 18,
     "metadata": {},
     "output_type": "execute_result"
    }
   ],
   "source": [
    "f= 4-2j\n",
    "type(f)"
   ]
  },
  {
   "cell_type": "code",
   "execution_count": 19,
   "id": "1fe78513-bf11-4e63-a579-5de6ce6d85e2",
   "metadata": {},
   "outputs": [
    {
     "ename": "SyntaxError",
     "evalue": "invalid decimal literal (817291317.py, line 1)",
     "output_type": "error",
     "traceback": [
      "\u001b[0;36m  Cell \u001b[0;32mIn[19], line 1\u001b[0;36m\u001b[0m\n\u001b[0;31m    g=4-2i\u001b[0m\n\u001b[0m        ^\u001b[0m\n\u001b[0;31mSyntaxError\u001b[0m\u001b[0;31m:\u001b[0m invalid decimal literal\n"
     ]
    }
   ],
   "source": [
    "g=4-2i\n",
    "type(g)"
   ]
  },
  {
   "cell_type": "code",
   "execution_count": 20,
   "id": "3960ace3-d20c-4013-9274-02c1f22c598e",
   "metadata": {},
   "outputs": [
    {
     "data": {
      "text/plain": [
       "4.0"
      ]
     },
     "execution_count": 20,
     "metadata": {},
     "output_type": "execute_result"
    }
   ],
   "source": [
    "f.real"
   ]
  },
  {
   "cell_type": "code",
   "execution_count": 21,
   "id": "c65b13ee-6881-42b7-9253-a26895889978",
   "metadata": {},
   "outputs": [
    {
     "data": {
      "text/plain": [
       "str"
      ]
     },
     "execution_count": 21,
     "metadata": {},
     "output_type": "execute_result"
    }
   ],
   "source": [
    "g=\"pwskills\"\n",
    "type(g)"
   ]
  },
  {
   "cell_type": "code",
   "execution_count": 22,
   "id": "498014e7-a84b-4fd6-8bb7-d3487d349bf3",
   "metadata": {},
   "outputs": [
    {
     "data": {
      "text/plain": [
       "'p'"
      ]
     },
     "execution_count": 22,
     "metadata": {},
     "output_type": "execute_result"
    }
   ],
   "source": [
    "g[0]"
   ]
  },
  {
   "cell_type": "code",
   "execution_count": 23,
   "id": "764eb604-f245-44ee-87c3-8dba69a2e51c",
   "metadata": {},
   "outputs": [
    {
     "data": {
      "text/plain": [
       "'l'"
      ]
     },
     "execution_count": 23,
     "metadata": {},
     "output_type": "execute_result"
    }
   ],
   "source": [
    "g[5]"
   ]
  },
  {
   "cell_type": "code",
   "execution_count": 24,
   "id": "6e01e893-6ddf-474f-bbe4-e371f40bd0fa",
   "metadata": {},
   "outputs": [
    {
     "data": {
      "text/plain": [
       "'wski'"
      ]
     },
     "execution_count": 24,
     "metadata": {},
     "output_type": "execute_result"
    }
   ],
   "source": [
    "g[1:5]"
   ]
  },
  {
   "cell_type": "code",
   "execution_count": 25,
   "id": "3dccd28c-ed23-46fd-948e-59654db905b7",
   "metadata": {},
   "outputs": [
    {
     "data": {
      "text/plain": [
       "'sil'"
      ]
     },
     "execution_count": 25,
     "metadata": {},
     "output_type": "execute_result"
    }
   ],
   "source": [
    "g[2:7:2]"
   ]
  },
  {
   "cell_type": "code",
   "execution_count": 26,
   "id": "b1e50b62-bacd-43c7-89fc-500a9822be60",
   "metadata": {},
   "outputs": [
    {
     "data": {
      "text/plain": [
       "'s'"
      ]
     },
     "execution_count": 26,
     "metadata": {},
     "output_type": "execute_result"
    }
   ],
   "source": [
    "g[-1]"
   ]
  },
  {
   "cell_type": "code",
   "execution_count": 27,
   "id": "0ed8920c-dd59-4f71-a0a0-2e286cf84260",
   "metadata": {},
   "outputs": [
    {
     "data": {
      "text/plain": [
       "'k'"
      ]
     },
     "execution_count": 27,
     "metadata": {},
     "output_type": "execute_result"
    }
   ],
   "source": [
    "g[-5]"
   ]
  },
  {
   "cell_type": "code",
   "execution_count": 28,
   "id": "cc0d4763-3a14-471b-9199-74269027e786",
   "metadata": {},
   "outputs": [
    {
     "data": {
      "text/plain": [
       "'sllikswp'"
      ]
     },
     "execution_count": 28,
     "metadata": {},
     "output_type": "execute_result"
    }
   ],
   "source": [
    "g[::-1]"
   ]
  },
  {
   "cell_type": "code",
   "execution_count": 29,
   "id": "174e3b78-8a5d-48fc-a25d-cf24d9659f3a",
   "metadata": {},
   "outputs": [
    {
     "data": {
      "text/plain": [
       "'siw'"
      ]
     },
     "execution_count": 29,
     "metadata": {},
     "output_type": "execute_result"
    }
   ],
   "source": [
    "g[::-3]"
   ]
  },
  {
   "cell_type": "code",
   "execution_count": 30,
   "id": "9f6e737b-5a56-4c8b-aa0b-d184a7514d33",
   "metadata": {},
   "outputs": [
    {
     "data": {
      "text/plain": [
       "''"
      ]
     },
     "execution_count": 30,
     "metadata": {},
     "output_type": "execute_result"
    }
   ],
   "source": [
    "g[2:7:-1]"
   ]
  },
  {
   "cell_type": "code",
   "execution_count": 31,
   "id": "54a02ae6-421d-491a-a586-dd6f5cbadd33",
   "metadata": {},
   "outputs": [],
   "source": [
    "h=\"this is a picture\""
   ]
  },
  {
   "cell_type": "code",
   "execution_count": 32,
   "id": "0395c46f-7648-46c3-85a5-bd5257b7c6db",
   "metadata": {},
   "outputs": [
    {
     "data": {
      "text/plain": [
       "2"
      ]
     },
     "execution_count": 32,
     "metadata": {},
     "output_type": "execute_result"
    }
   ],
   "source": [
    "h.find('i')"
   ]
  },
  {
   "cell_type": "code",
   "execution_count": 33,
   "id": "b37c3e68-5aaf-4766-a963-befca4a7c0ce",
   "metadata": {},
   "outputs": [
    {
     "data": {
      "text/plain": [
       "13"
      ]
     },
     "execution_count": 33,
     "metadata": {},
     "output_type": "execute_result"
    }
   ],
   "source": [
    "h.find(\"tu\")"
   ]
  },
  {
   "cell_type": "code",
   "execution_count": 34,
   "id": "98952edc-0e05-4589-a4c7-34c829431263",
   "metadata": {},
   "outputs": [
    {
     "data": {
      "text/plain": [
       "'THIS IS A PICTURE'"
      ]
     },
     "execution_count": 34,
     "metadata": {},
     "output_type": "execute_result"
    }
   ],
   "source": [
    "h.upper()"
   ]
  },
  {
   "cell_type": "code",
   "execution_count": 35,
   "id": "3a664085-ad06-42e4-b612-60b503babbb5",
   "metadata": {},
   "outputs": [
    {
     "data": {
      "text/plain": [
       "3"
      ]
     },
     "execution_count": 35,
     "metadata": {},
     "output_type": "execute_result"
    }
   ],
   "source": [
    "h.count(\"i\")"
   ]
  },
  {
   "cell_type": "code",
   "execution_count": 36,
   "id": "efee595b-0375-4ca2-8e2a-09bd16b04d2d",
   "metadata": {},
   "outputs": [
    {
     "data": {
      "text/plain": [
       "'This Is A Picture'"
      ]
     },
     "execution_count": 36,
     "metadata": {},
     "output_type": "execute_result"
    }
   ],
   "source": [
    "h.title()"
   ]
  },
  {
   "cell_type": "code",
   "execution_count": 37,
   "id": "8f38f98d-5a95-4ef6-aa7a-1a3a6e47842b",
   "metadata": {},
   "outputs": [
    {
     "data": {
      "text/plain": [
       "'This is a picture'"
      ]
     },
     "execution_count": 37,
     "metadata": {},
     "output_type": "execute_result"
    }
   ],
   "source": [
    "h.capitalize()"
   ]
  },
  {
   "cell_type": "code",
   "execution_count": 38,
   "id": "a21d250a-65e9-4a74-8b3c-c5f7a78a1044",
   "metadata": {},
   "outputs": [
    {
     "data": {
      "text/plain": [
       "'this is a picture34'"
      ]
     },
     "execution_count": 38,
     "metadata": {},
     "output_type": "execute_result"
    }
   ],
   "source": [
    "h+\"34\""
   ]
  },
  {
   "cell_type": "code",
   "execution_count": 39,
   "id": "9f2592c2-3c38-4050-b6f1-3b5064465b04",
   "metadata": {},
   "outputs": [],
   "source": [
    "i=6348840"
   ]
  },
  {
   "cell_type": "code",
   "execution_count": 40,
   "id": "e78029eb-886f-40c0-8d49-f7d3d71b8d41",
   "metadata": {},
   "outputs": [
    {
     "data": {
      "text/plain": [
       "'this is a picture6348840'"
      ]
     },
     "execution_count": 40,
     "metadata": {},
     "output_type": "execute_result"
    }
   ],
   "source": [
    "h+str(i)"
   ]
  },
  {
   "cell_type": "code",
   "execution_count": 41,
   "id": "8488f7b9-80c0-4e6e-bf36-de6c3a805310",
   "metadata": {},
   "outputs": [],
   "source": [
    "#ctrl+foreward slash for single line comment and for multi line \"\"\" comment \"\"\""
   ]
  },
  {
   "cell_type": "code",
   "execution_count": 42,
   "id": "98e0e376-f518-4ffb-9ac3-00afde4e262d",
   "metadata": {},
   "outputs": [
    {
     "data": {
      "text/plain": [
       "'hey\\nim ananya\\nim persuing bca'"
      ]
     },
     "execution_count": 42,
     "metadata": {},
     "output_type": "execute_result"
    }
   ],
   "source": [
    "\"\"\"hey\n",
    "im ananya\n",
    "im persuing bca\"\"\""
   ]
  },
  {
   "cell_type": "code",
   "execution_count": 43,
   "id": "02cb43fd-60e2-4adb-8501-c8089a0e81a9",
   "metadata": {},
   "outputs": [],
   "source": [
    "j=[1,5.78,\"anan\",True, False, 5+7j, [3,8]]"
   ]
  },
  {
   "cell_type": "code",
   "execution_count": 44,
   "id": "39f755ba-aa25-4e55-8545-c04a8b2b7b46",
   "metadata": {},
   "outputs": [
    {
     "data": {
      "text/plain": [
       "list"
      ]
     },
     "execution_count": 44,
     "metadata": {},
     "output_type": "execute_result"
    }
   ],
   "source": [
    "type(j)"
   ]
  },
  {
   "cell_type": "code",
   "execution_count": 45,
   "id": "d8159f1a-f729-49d3-9d6f-52f0fca2b8f9",
   "metadata": {},
   "outputs": [],
   "source": [
    "k={1,5.78,\"anan\",True, False, 5+7j}"
   ]
  },
  {
   "cell_type": "code",
   "execution_count": 46,
   "id": "1f9b98a6-cb03-4a0c-b951-c86e1b5dfe9a",
   "metadata": {},
   "outputs": [
    {
     "data": {
      "text/plain": [
       "set"
      ]
     },
     "execution_count": 46,
     "metadata": {},
     "output_type": "execute_result"
    }
   ],
   "source": [
    "type(k)"
   ]
  },
  {
   "cell_type": "code",
   "execution_count": 47,
   "id": "5212b0c0-dcf2-411f-819d-15150368c6e4",
   "metadata": {},
   "outputs": [],
   "source": [
    "l=(1,5.78,\"anan\",True, False, 5+7j, [3,8], (9,5,9.5))"
   ]
  },
  {
   "cell_type": "code",
   "execution_count": 48,
   "id": "fb69bb9f-504c-40ad-81d2-89ac53ec7c17",
   "metadata": {},
   "outputs": [
    {
     "data": {
      "text/plain": [
       "tuple"
      ]
     },
     "execution_count": 48,
     "metadata": {},
     "output_type": "execute_result"
    }
   ],
   "source": [
    "type(l)"
   ]
  },
  {
   "cell_type": "code",
   "execution_count": 49,
   "id": "e68f3087-5bb3-4a38-a8ae-418e73b34590",
   "metadata": {},
   "outputs": [
    {
     "data": {
      "text/plain": [
       "['anan', True, False]"
      ]
     },
     "execution_count": 49,
     "metadata": {},
     "output_type": "execute_result"
    }
   ],
   "source": [
    "j[2:5]"
   ]
  },
  {
   "cell_type": "code",
   "execution_count": 50,
   "id": "23808154-9311-4249-aee7-d63ff8ee8334",
   "metadata": {},
   "outputs": [
    {
     "ename": "TypeError",
     "evalue": "'set' object is not subscriptable",
     "output_type": "error",
     "traceback": [
      "\u001b[0;31m---------------------------------------------------------------------------\u001b[0m",
      "\u001b[0;31mTypeError\u001b[0m                                 Traceback (most recent call last)",
      "Cell \u001b[0;32mIn[50], line 1\u001b[0m\n\u001b[0;32m----> 1\u001b[0m \u001b[43mk\u001b[49m\u001b[43m[\u001b[49m\u001b[38;5;241;43m2\u001b[39;49m\u001b[43m:\u001b[49m\u001b[38;5;241;43m5\u001b[39;49m\u001b[43m]\u001b[49m\n",
      "\u001b[0;31mTypeError\u001b[0m: 'set' object is not subscriptable"
     ]
    }
   ],
   "source": [
    "k[2:5]"
   ]
  },
  {
   "cell_type": "code",
   "execution_count": 51,
   "id": "694a5517-3bd2-4882-b895-d84ca6da83fd",
   "metadata": {},
   "outputs": [
    {
     "data": {
      "text/plain": [
       "('anan', True, False)"
      ]
     },
     "execution_count": 51,
     "metadata": {},
     "output_type": "execute_result"
    }
   ],
   "source": [
    "l[2:5]"
   ]
  },
  {
   "cell_type": "code",
   "execution_count": 52,
   "id": "ed5e902b-a2eb-432d-9e3c-8064a9ac03fb",
   "metadata": {},
   "outputs": [],
   "source": [
    "n=j[2]"
   ]
  },
  {
   "cell_type": "code",
   "execution_count": 53,
   "id": "55d2d991-4152-4e9a-89d6-e94244e97d0a",
   "metadata": {},
   "outputs": [
    {
     "data": {
      "text/plain": [
       "'na'"
      ]
     },
     "execution_count": 53,
     "metadata": {},
     "output_type": "execute_result"
    }
   ],
   "source": [
    "n[1:3]"
   ]
  },
  {
   "cell_type": "code",
   "execution_count": 54,
   "id": "d59e344e-26f2-4550-947a-817a5a03b7c8",
   "metadata": {},
   "outputs": [
    {
     "data": {
      "text/plain": [
       "3"
      ]
     },
     "execution_count": 54,
     "metadata": {},
     "output_type": "execute_result"
    }
   ],
   "source": [
    "j[6][0]"
   ]
  },
  {
   "cell_type": "code",
   "execution_count": 55,
   "id": "58ff6bcd-f084-4b40-b19b-3986237fb453",
   "metadata": {},
   "outputs": [],
   "source": [
    "o=str(j[3])"
   ]
  },
  {
   "cell_type": "code",
   "execution_count": 56,
   "id": "f7f3553f-f917-4f04-bd0b-31f1a65f31e0",
   "metadata": {},
   "outputs": [
    {
     "data": {
      "text/plain": [
       "'rue'"
      ]
     },
     "execution_count": 56,
     "metadata": {},
     "output_type": "execute_result"
    }
   ],
   "source": [
    "o[1:4]"
   ]
  },
  {
   "cell_type": "code",
   "execution_count": 57,
   "id": "77fcf46e-17bd-4e09-a6b6-a52dacace559",
   "metadata": {},
   "outputs": [
    {
     "data": {
      "text/plain": [
       "'Fal'"
      ]
     },
     "execution_count": 57,
     "metadata": {},
     "output_type": "execute_result"
    }
   ],
   "source": [
    "str(j[4])[0:3]"
   ]
  },
  {
   "cell_type": "code",
   "execution_count": 58,
   "id": "87fc3bcc-4d62-47e5-8435-220f5aeb258a",
   "metadata": {},
   "outputs": [],
   "source": [
    "p=[33,[\"jk\",\"v\"]]"
   ]
  },
  {
   "cell_type": "code",
   "execution_count": 59,
   "id": "ef616853-e51a-4eef-bc40-be70827b9449",
   "metadata": {},
   "outputs": [
    {
     "data": {
      "text/plain": [
       "[1, 5.78, 'anan', True, False, (5+7j), [3, 8], 33, ['jk', 'v']]"
      ]
     },
     "execution_count": 59,
     "metadata": {},
     "output_type": "execute_result"
    }
   ],
   "source": [
    "j+p"
   ]
  },
  {
   "cell_type": "code",
   "execution_count": 60,
   "id": "b9e36d99-bdc7-4c74-8b9b-94b8faf538cc",
   "metadata": {},
   "outputs": [
    {
     "data": {
      "text/plain": [
       "[33, ['jk', 'v'], 33, ['jk', 'v']]"
      ]
     },
     "execution_count": 60,
     "metadata": {},
     "output_type": "execute_result"
    }
   ],
   "source": [
    "p*2"
   ]
  },
  {
   "cell_type": "code",
   "execution_count": 61,
   "id": "e59f0e24-37de-4831-8764-41b022115b13",
   "metadata": {},
   "outputs": [
    {
     "data": {
      "text/plain": [
       "'pwskillspwskillspwskills'"
      ]
     },
     "execution_count": 61,
     "metadata": {},
     "output_type": "execute_result"
    }
   ],
   "source": [
    "g*3"
   ]
  },
  {
   "cell_type": "code",
   "execution_count": 62,
   "id": "62ab75ee-9923-4888-bcc1-bc2b03ff89bb",
   "metadata": {},
   "outputs": [
    {
     "data": {
      "text/plain": [
       "\"pwskills[1, 5.78, 'anan', True, False, (5+7j), [3, 8]]\""
      ]
     },
     "execution_count": 62,
     "metadata": {},
     "output_type": "execute_result"
    }
   ],
   "source": [
    "g+str(j)"
   ]
  },
  {
   "cell_type": "code",
   "execution_count": 63,
   "id": "fb6767c2-271f-4486-b65d-703fed20abd4",
   "metadata": {},
   "outputs": [
    {
     "data": {
      "text/plain": [
       "['p',\n",
       " 'w',\n",
       " 's',\n",
       " 'k',\n",
       " 'i',\n",
       " 'l',\n",
       " 'l',\n",
       " 's',\n",
       " 1,\n",
       " 5.78,\n",
       " 'anan',\n",
       " True,\n",
       " False,\n",
       " (5+7j),\n",
       " [3, 8]]"
      ]
     },
     "execution_count": 63,
     "metadata": {},
     "output_type": "execute_result"
    }
   ],
   "source": [
    "list(g)+j"
   ]
  },
  {
   "cell_type": "code",
   "execution_count": 64,
   "id": "70665a0f-9be9-454c-b776-2078d412151d",
   "metadata": {},
   "outputs": [],
   "source": [
    "j.append(199)"
   ]
  },
  {
   "cell_type": "code",
   "execution_count": 65,
   "id": "57146473-2ddc-45e6-9b4e-2ebb00a751e4",
   "metadata": {},
   "outputs": [
    {
     "data": {
      "text/plain": [
       "[1, 5.78, 'anan', True, False, (5+7j), [3, 8], 199]"
      ]
     },
     "execution_count": 65,
     "metadata": {},
     "output_type": "execute_result"
    }
   ],
   "source": [
    "j"
   ]
  },
  {
   "cell_type": "code",
   "execution_count": 66,
   "id": "7a7ec3fb-7429-4504-9222-cf81871fe43b",
   "metadata": {},
   "outputs": [],
   "source": [
    "j1=[3,7,90]"
   ]
  },
  {
   "cell_type": "code",
   "execution_count": 67,
   "id": "03261c63-6f03-4896-92b0-acf98b421497",
   "metadata": {},
   "outputs": [],
   "source": [
    "j.append(j1)"
   ]
  },
  {
   "cell_type": "code",
   "execution_count": 68,
   "id": "27abc58a-9725-4ac5-9bcd-9c5d7a4ad4a6",
   "metadata": {},
   "outputs": [
    {
     "data": {
      "text/plain": [
       "[1, 5.78, 'anan', True, False, (5+7j), [3, 8], 199, [3, 7, 90]]"
      ]
     },
     "execution_count": 68,
     "metadata": {},
     "output_type": "execute_result"
    }
   ],
   "source": [
    "j"
   ]
  },
  {
   "cell_type": "code",
   "execution_count": 69,
   "id": "94281bc2-a184-4abd-b449-b9adff89eca9",
   "metadata": {},
   "outputs": [],
   "source": [
    "j.extend(j1)"
   ]
  },
  {
   "cell_type": "code",
   "execution_count": 70,
   "id": "a55f64d7-f830-49b9-bf35-030c1e1d5a2d",
   "metadata": {},
   "outputs": [
    {
     "data": {
      "text/plain": [
       "[1, 5.78, 'anan', True, False, (5+7j), [3, 8], 199, [3, 7, 90], 3, 7, 90]"
      ]
     },
     "execution_count": 70,
     "metadata": {},
     "output_type": "execute_result"
    }
   ],
   "source": [
    "j"
   ]
  },
  {
   "cell_type": "code",
   "execution_count": 71,
   "id": "49dafc28-d551-4560-bc61-7d15aa3d1fb1",
   "metadata": {},
   "outputs": [],
   "source": [
    "j.extend([44,55,77])"
   ]
  },
  {
   "cell_type": "code",
   "execution_count": 72,
   "id": "be2becd4-f7cb-4862-995a-c0254c2ed0f1",
   "metadata": {},
   "outputs": [
    {
     "data": {
      "text/plain": [
       "[1,\n",
       " 5.78,\n",
       " 'anan',\n",
       " True,\n",
       " False,\n",
       " (5+7j),\n",
       " [3, 8],\n",
       " 199,\n",
       " [3, 7, 90],\n",
       " 3,\n",
       " 7,\n",
       " 90,\n",
       " 44,\n",
       " 55,\n",
       " 77]"
      ]
     },
     "execution_count": 72,
     "metadata": {},
     "output_type": "execute_result"
    }
   ],
   "source": [
    "j"
   ]
  },
  {
   "cell_type": "code",
   "execution_count": 73,
   "id": "6efd01ca-2d53-4089-a668-f7741200a2d3",
   "metadata": {},
   "outputs": [
    {
     "data": {
      "text/plain": [
       "77"
      ]
     },
     "execution_count": 73,
     "metadata": {},
     "output_type": "execute_result"
    }
   ],
   "source": [
    "j.pop()"
   ]
  },
  {
   "cell_type": "code",
   "execution_count": 74,
   "id": "dd5c8378-9b06-43cb-93d4-4fb10e2d12d1",
   "metadata": {},
   "outputs": [
    {
     "data": {
      "text/plain": [
       "[1,\n",
       " 5.78,\n",
       " 'anan',\n",
       " True,\n",
       " False,\n",
       " (5+7j),\n",
       " [3, 8],\n",
       " 199,\n",
       " [3, 7, 90],\n",
       " 3,\n",
       " 7,\n",
       " 90,\n",
       " 44,\n",
       " 55]"
      ]
     },
     "execution_count": 74,
     "metadata": {},
     "output_type": "execute_result"
    }
   ],
   "source": [
    "j"
   ]
  },
  {
   "cell_type": "code",
   "execution_count": 75,
   "id": "43bf9d39-53d6-4994-a962-6ceeaabcddba",
   "metadata": {},
   "outputs": [],
   "source": [
    "j.insert(2,\"but\")"
   ]
  },
  {
   "cell_type": "code",
   "execution_count": 76,
   "id": "dc727d8d-2d06-4b6c-be62-46bd91af701c",
   "metadata": {},
   "outputs": [
    {
     "data": {
      "text/plain": [
       "[1,\n",
       " 5.78,\n",
       " 'but',\n",
       " 'anan',\n",
       " True,\n",
       " False,\n",
       " (5+7j),\n",
       " [3, 8],\n",
       " 199,\n",
       " [3, 7, 90],\n",
       " 3,\n",
       " 7,\n",
       " 90,\n",
       " 44,\n",
       " 55]"
      ]
     },
     "execution_count": 76,
     "metadata": {},
     "output_type": "execute_result"
    }
   ],
   "source": [
    "j"
   ]
  },
  {
   "cell_type": "code",
   "execution_count": 77,
   "id": "53f36129-79eb-4860-9b59-e7fbb6a9dfd2",
   "metadata": {},
   "outputs": [
    {
     "data": {
      "text/plain": [
       "(1, 5.78, 'anan', True, False, (5+7j), [3, 8], (9, 5, 9.5))"
      ]
     },
     "execution_count": 77,
     "metadata": {},
     "output_type": "execute_result"
    }
   ],
   "source": [
    "l"
   ]
  },
  {
   "cell_type": "code",
   "execution_count": 78,
   "id": "e1a10f48-fb90-4121-acf1-36ce6acc858d",
   "metadata": {},
   "outputs": [
    {
     "ename": "TypeError",
     "evalue": "'tuple' object does not support item assignment",
     "output_type": "error",
     "traceback": [
      "\u001b[0;31m---------------------------------------------------------------------------\u001b[0m",
      "\u001b[0;31mTypeError\u001b[0m                                 Traceback (most recent call last)",
      "Cell \u001b[0;32mIn[78], line 1\u001b[0m\n\u001b[0;32m----> 1\u001b[0m \u001b[43ml\u001b[49m\u001b[43m[\u001b[49m\u001b[38;5;241;43m2\u001b[39;49m\u001b[43m]\u001b[49m\u001b[38;5;241m=\u001b[39mf\n",
      "\u001b[0;31mTypeError\u001b[0m: 'tuple' object does not support item assignment"
     ]
    }
   ],
   "source": [
    "l[2]=f"
   ]
  },
  {
   "cell_type": "code",
   "execution_count": 79,
   "id": "1cf58606-cc1e-4ca0-afad-6d78d8b699cb",
   "metadata": {},
   "outputs": [
    {
     "data": {
      "text/plain": [
       "1"
      ]
     },
     "execution_count": 79,
     "metadata": {},
     "output_type": "execute_result"
    }
   ],
   "source": [
    "l.count(0)"
   ]
  },
  {
   "cell_type": "code",
   "execution_count": 80,
   "id": "2f339d53-a11c-4aae-bb1d-4fbdf3e62c58",
   "metadata": {},
   "outputs": [],
   "source": [
    "m={}"
   ]
  },
  {
   "cell_type": "code",
   "execution_count": 81,
   "id": "e29e9430-3690-47be-a637-de3b19b8143d",
   "metadata": {},
   "outputs": [
    {
     "data": {
      "text/plain": [
       "dict"
      ]
     },
     "execution_count": 81,
     "metadata": {},
     "output_type": "execute_result"
    }
   ],
   "source": [
    "type(m)"
   ]
  },
  {
   "cell_type": "code",
   "execution_count": 82,
   "id": "a380c9f3-73b3-4d69-ac28-a632e549ac86",
   "metadata": {},
   "outputs": [],
   "source": [
    "m1={'key':'value'}"
   ]
  },
  {
   "cell_type": "code",
   "execution_count": 83,
   "id": "93d93b0c-92ea-4eb5-b6fb-492538bcb8fc",
   "metadata": {},
   "outputs": [],
   "source": [
    "n={'name':'Ananya' , 'course':'bca' , 'id':'142' , 142:'bright' , True:24 , False:34}"
   ]
  },
  {
   "cell_type": "code",
   "execution_count": 84,
   "id": "3c70c699-2d02-4ad7-a560-fc82c32b3b0b",
   "metadata": {},
   "outputs": [
    {
     "data": {
      "text/plain": [
       "{'name': 'Ananya',\n",
       " 'course': 'bca',\n",
       " 'id': '142',\n",
       " 142: 'bright',\n",
       " True: 24,\n",
       " False: 34}"
      ]
     },
     "execution_count": 84,
     "metadata": {},
     "output_type": "execute_result"
    }
   ],
   "source": [
    "n"
   ]
  },
  {
   "cell_type": "code",
   "execution_count": 85,
   "id": "e244eec2-a70c-4c0f-8d0a-d00ba57fb0c5",
   "metadata": {},
   "outputs": [
    {
     "data": {
      "text/plain": [
       "'Ananya'"
      ]
     },
     "execution_count": 85,
     "metadata": {},
     "output_type": "execute_result"
    }
   ],
   "source": [
    "n['name']"
   ]
  },
  {
   "cell_type": "code",
   "execution_count": 86,
   "id": "4be3c454-4bad-4b73-bf93-a951f90ca154",
   "metadata": {},
   "outputs": [
    {
     "data": {
      "text/plain": [
       "'bright'"
      ]
     },
     "execution_count": 86,
     "metadata": {},
     "output_type": "execute_result"
    }
   ],
   "source": [
    "n[142]"
   ]
  },
  {
   "cell_type": "code",
   "execution_count": 87,
   "id": "2f1fee5c-010a-4c83-ae66-4bf41585a335",
   "metadata": {},
   "outputs": [
    {
     "data": {
      "text/plain": [
       "24"
      ]
     },
     "execution_count": 87,
     "metadata": {},
     "output_type": "execute_result"
    }
   ],
   "source": [
    "n[1]"
   ]
  },
  {
   "cell_type": "markdown",
   "id": "44476e20-da15-46d4-8ec6-bbeebf0c164c",
   "metadata": {},
   "source": [
    "1=True in boolean and 0=False"
   ]
  },
  {
   "cell_type": "code",
   "execution_count": 88,
   "id": "863e1d71-58cf-4fb3-b9b1-70e77beb1fdd",
   "metadata": {},
   "outputs": [
    {
     "data": {
      "text/plain": [
       "34"
      ]
     },
     "execution_count": 88,
     "metadata": {},
     "output_type": "execute_result"
    }
   ],
   "source": [
    "n[0]"
   ]
  },
  {
   "cell_type": "code",
   "execution_count": 89,
   "id": "d92a60d1-a3cb-45bd-9303-993c0e7f72a1",
   "metadata": {},
   "outputs": [],
   "source": [
    "n1={'name':'Ananya' , 'course':'bca' , 'id':'142' , 142:'bright' , True:24 , 'name':'Krystal'}"
   ]
  },
  {
   "cell_type": "code",
   "execution_count": 90,
   "id": "67de9d8c-d766-4575-9e14-b79274175eaa",
   "metadata": {},
   "outputs": [
    {
     "data": {
      "text/plain": [
       "'Krystal'"
      ]
     },
     "execution_count": 90,
     "metadata": {},
     "output_type": "execute_result"
    }
   ],
   "source": [
    "n1['name']"
   ]
  },
  {
   "cell_type": "markdown",
   "id": "de70ba92-3b39-40ee-a395-42a092f4f18d",
   "metadata": {},
   "source": [
    "key is overwritten"
   ]
  },
  {
   "cell_type": "code",
   "execution_count": 91,
   "id": "130e18eb-4e22-4a43-8536-4271804b777e",
   "metadata": {},
   "outputs": [],
   "source": [
    "o={'name':'Ananya' , 'course':'bca' , 'subjects':['am','wbp','dsa']}"
   ]
  },
  {
   "cell_type": "code",
   "execution_count": 92,
   "id": "8fc23ea7-be8e-44c9-b455-b2177bfe703e",
   "metadata": {},
   "outputs": [
    {
     "data": {
      "text/plain": [
       "['am', 'wbp', 'dsa']"
      ]
     },
     "execution_count": 92,
     "metadata": {},
     "output_type": "execute_result"
    }
   ],
   "source": [
    "o['subjects']"
   ]
  },
  {
   "cell_type": "code",
   "execution_count": 93,
   "id": "6c4c648d-d6c2-45c4-9b2d-44815720e2a6",
   "metadata": {},
   "outputs": [
    {
     "data": {
      "text/plain": [
       "'wbp'"
      ]
     },
     "execution_count": 93,
     "metadata": {},
     "output_type": "execute_result"
    }
   ],
   "source": [
    "o['subjects'][1]"
   ]
  },
  {
   "cell_type": "code",
   "execution_count": 94,
   "id": "f97506ac-a1ef-4251-8758-f4ff9c6bfd6c",
   "metadata": {},
   "outputs": [
    {
     "data": {
      "text/plain": [
       "'dsa'"
      ]
     },
     "execution_count": 94,
     "metadata": {},
     "output_type": "execute_result"
    }
   ],
   "source": [
    "o['subjects'][2]"
   ]
  },
  {
   "cell_type": "code",
   "execution_count": 95,
   "id": "d42addaf-25d8-4892-89c6-d078286e3d0b",
   "metadata": {},
   "outputs": [],
   "source": [
    "p={'Enroll':(1,2,3,4,5) , 'roll':(6,7,8) , 'Course':['bca','bcom','bajmc','law'] , 'Assignment':{10,12,14,16,18,22} , 'Tcredits':{'bca':20,'bajmc':25,'bcom':23,'law':30}}"
   ]
  },
  {
   "cell_type": "code",
   "execution_count": 96,
   "id": "fc516b43-9f7c-4712-9181-8e255a6c075c",
   "metadata": {},
   "outputs": [
    {
     "data": {
      "text/plain": [
       "{'Enroll': (1, 2, 3, 4, 5),\n",
       " 'roll': (6, 7, 8),\n",
       " 'Course': ['bca', 'bcom', 'bajmc', 'law'],\n",
       " 'Assignment': {10, 12, 14, 16, 18, 22},\n",
       " 'Tcredits': {'bca': 20, 'bajmc': 25, 'bcom': 23, 'law': 30}}"
      ]
     },
     "execution_count": 96,
     "metadata": {},
     "output_type": "execute_result"
    }
   ],
   "source": [
    "p"
   ]
  },
  {
   "cell_type": "code",
   "execution_count": 97,
   "id": "1aa0d353-2c6a-4f5d-860c-771cdc1cb3c8",
   "metadata": {},
   "outputs": [
    {
     "data": {
      "text/plain": [
       "3"
      ]
     },
     "execution_count": 97,
     "metadata": {},
     "output_type": "execute_result"
    }
   ],
   "source": [
    "p['Enroll'][2]"
   ]
  },
  {
   "cell_type": "code",
   "execution_count": 98,
   "id": "f32eee01-83c8-4075-90e2-4b06c55b0b80",
   "metadata": {},
   "outputs": [
    {
     "data": {
      "text/plain": [
       "'bajmc'"
      ]
     },
     "execution_count": 98,
     "metadata": {},
     "output_type": "execute_result"
    }
   ],
   "source": [
    "p['Course'][2]"
   ]
  },
  {
   "cell_type": "code",
   "execution_count": 99,
   "id": "f9f1feda-ffa6-4f54-8607-ab14f7b8dda9",
   "metadata": {},
   "outputs": [
    {
     "data": {
      "text/plain": [
       "{10, 12, 14, 16, 18, 22}"
      ]
     },
     "execution_count": 99,
     "metadata": {},
     "output_type": "execute_result"
    }
   ],
   "source": [
    "p['Assignment']"
   ]
  },
  {
   "cell_type": "code",
   "execution_count": 100,
   "id": "8dd3a64f-a1b5-480c-a17a-25f66ba1682d",
   "metadata": {},
   "outputs": [
    {
     "data": {
      "text/plain": [
       "30"
      ]
     },
     "execution_count": 100,
     "metadata": {},
     "output_type": "execute_result"
    }
   ],
   "source": [
    "p['Tcredits']['law']"
   ]
  },
  {
   "cell_type": "code",
   "execution_count": 101,
   "id": "cf789ba1-62dd-4f91-a7af-1e2ca3cbb25e",
   "metadata": {},
   "outputs": [],
   "source": [
    "del p['roll']"
   ]
  },
  {
   "cell_type": "code",
   "execution_count": 102,
   "id": "50b5739c-2fcf-42b4-ad5c-be750f661f90",
   "metadata": {},
   "outputs": [
    {
     "data": {
      "text/plain": [
       "{'Enroll': (1, 2, 3, 4, 5),\n",
       " 'Course': ['bca', 'bcom', 'bajmc', 'law'],\n",
       " 'Assignment': {10, 12, 14, 16, 18, 22},\n",
       " 'Tcredits': {'bca': 20, 'bajmc': 25, 'bcom': 23, 'law': 30}}"
      ]
     },
     "execution_count": 102,
     "metadata": {},
     "output_type": "execute_result"
    }
   ],
   "source": [
    "p"
   ]
  },
  {
   "cell_type": "code",
   "execution_count": 103,
   "id": "6e0dd6d3-b326-4144-9022-314a9a97029b",
   "metadata": {},
   "outputs": [
    {
     "data": {
      "text/plain": [
       "dict_keys(['Enroll', 'Course', 'Assignment', 'Tcredits'])"
      ]
     },
     "execution_count": 103,
     "metadata": {},
     "output_type": "execute_result"
    }
   ],
   "source": [
    "p.keys()"
   ]
  },
  {
   "cell_type": "code",
   "execution_count": 104,
   "id": "d7b9f662-a729-4ee2-9782-593e552ccea4",
   "metadata": {},
   "outputs": [
    {
     "data": {
      "text/plain": [
       "['Enroll', 'Course', 'Assignment', 'Tcredits']"
      ]
     },
     "execution_count": 104,
     "metadata": {},
     "output_type": "execute_result"
    }
   ],
   "source": [
    "list(p.keys())"
   ]
  },
  {
   "cell_type": "code",
   "execution_count": 105,
   "id": "2a72b657-480a-46f2-ba58-ce3b1c901836",
   "metadata": {},
   "outputs": [
    {
     "data": {
      "text/plain": [
       "((1, 2, 3, 4, 5),\n",
       " ['bca', 'bcom', 'bajmc', 'law'],\n",
       " {10, 12, 14, 16, 18, 22},\n",
       " {'bca': 20, 'bajmc': 25, 'bcom': 23, 'law': 30})"
      ]
     },
     "execution_count": 105,
     "metadata": {},
     "output_type": "execute_result"
    }
   ],
   "source": [
    "tuple(p.values())"
   ]
  },
  {
   "cell_type": "code",
   "execution_count": 106,
   "id": "574fff9d-b751-47e1-8821-0dfe255659de",
   "metadata": {},
   "outputs": [
    {
     "data": {
      "text/plain": [
       "dict_items([('Enroll', (1, 2, 3, 4, 5)), ('Course', ['bca', 'bcom', 'bajmc', 'law']), ('Assignment', {16, 18, 22, 10, 12, 14}), ('Tcredits', {'bca': 20, 'bajmc': 25, 'bcom': 23, 'law': 30})])"
      ]
     },
     "execution_count": 106,
     "metadata": {},
     "output_type": "execute_result"
    }
   ],
   "source": [
    "p.items()"
   ]
  },
  {
   "cell_type": "code",
   "execution_count": 107,
   "id": "39c7046d-ef50-48a9-a419-42f71b7d1ccd",
   "metadata": {},
   "outputs": [
    {
     "data": {
      "text/plain": [
       "[('Enroll', (1, 2, 3, 4, 5)),\n",
       " ('Course', ['bca', 'bcom', 'bajmc', 'law']),\n",
       " ('Assignment', {10, 12, 14, 16, 18, 22}),\n",
       " ('Tcredits', {'bca': 20, 'bajmc': 25, 'bcom': 23, 'law': 30})]"
      ]
     },
     "execution_count": 107,
     "metadata": {},
     "output_type": "execute_result"
    }
   ],
   "source": [
    "list(p.items())"
   ]
  },
  {
   "cell_type": "code",
   "execution_count": 108,
   "id": "b29d9203-8a5b-45b9-ac19-770f37e2ce24",
   "metadata": {},
   "outputs": [],
   "source": [
    "q=p.pop('Enroll')"
   ]
  },
  {
   "cell_type": "code",
   "execution_count": 109,
   "id": "c78a0f1c-c1d6-47d9-8a97-0f03c1759f26",
   "metadata": {},
   "outputs": [
    {
     "data": {
      "text/plain": [
       "(1, 2, 3, 4, 5)"
      ]
     },
     "execution_count": 109,
     "metadata": {},
     "output_type": "execute_result"
    }
   ],
   "source": [
    "q"
   ]
  },
  {
   "cell_type": "code",
   "execution_count": 110,
   "id": "6c212d3d-344f-4f67-ad25-b2a9909d259d",
   "metadata": {},
   "outputs": [
    {
     "data": {
      "text/plain": [
       "{'Course': ['bca', 'bcom', 'bajmc', 'law'],\n",
       " 'Assignment': {10, 12, 14, 16, 18, 22},\n",
       " 'Tcredits': {'bca': 20, 'bajmc': 25, 'bcom': 23, 'law': 30}}"
      ]
     },
     "execution_count": 110,
     "metadata": {},
     "output_type": "execute_result"
    }
   ],
   "source": [
    "p"
   ]
  },
  {
   "cell_type": "markdown",
   "id": "0b6b14ec-ee54-4d3b-8c69-cac9c9e0390e",
   "metadata": {},
   "source": []
  },
  {
   "cell_type": "markdown",
   "id": "f2e0ccff-c9e9-40d6-a376-1d48f54f088b",
   "metadata": {},
   "source": [
    "if else conditions below:-"
   ]
  },
  {
   "cell_type": "code",
   "execution_count": 111,
   "id": "af117ca2-0525-44de-a3d1-9467e9fddf3a",
   "metadata": {},
   "outputs": [
    {
     "name": "stdout",
     "output_type": "stream",
     "text": [
      "A2 Batch\n"
     ]
    }
   ],
   "source": [
    "marks=65\n",
    "\n",
    "if marks>=80:\n",
    "    print(\"A1 Batch\")\n",
    "elif marks>=60 and marks<80:\n",
    "    print(\"A2 Batch\")\n",
    "elif marks>=40 and marks<60:\n",
    "    print(\"A3 Batch\")\n",
    "else:\n",
    "    print(\"A4 Batch\")"
   ]
  },
  {
   "cell_type": "code",
   "execution_count": 119,
   "id": "81fb2a9f-ee8b-4368-9c91-2c6ff9bf1dd0",
   "metadata": {},
   "outputs": [
    {
     "name": "stdin",
     "output_type": "stream",
     "text": [
      "enter your number 76\n"
     ]
    }
   ],
   "source": [
    "marks=input(\"enter your number\")"
   ]
  },
  {
   "cell_type": "code",
   "execution_count": 120,
   "id": "05777bd8-9a95-4e22-a1b0-b7b9e467b533",
   "metadata": {},
   "outputs": [
    {
     "data": {
      "text/plain": [
       "str"
      ]
     },
     "execution_count": 120,
     "metadata": {},
     "output_type": "execute_result"
    }
   ],
   "source": [
    "type(marks)"
   ]
  },
  {
   "cell_type": "code",
   "execution_count": 121,
   "id": "de9faa73-0214-4338-9baf-711b2d581c6b",
   "metadata": {},
   "outputs": [
    {
     "name": "stdin",
     "output_type": "stream",
     "text": [
      "enter your number 87\n"
     ]
    }
   ],
   "source": [
    "marks=int(input(\"enter your number\"))"
   ]
  },
  {
   "cell_type": "code",
   "execution_count": 122,
   "id": "056911bf-0e87-46b7-934c-04abd6675b26",
   "metadata": {},
   "outputs": [
    {
     "data": {
      "text/plain": [
       "int"
      ]
     },
     "execution_count": 122,
     "metadata": {},
     "output_type": "execute_result"
    }
   ],
   "source": [
    "type(marks)"
   ]
  },
  {
   "cell_type": "code",
   "execution_count": 123,
   "id": "329898c9-0c2b-402a-afe3-38d40cd761a7",
   "metadata": {},
   "outputs": [
    {
     "name": "stdin",
     "output_type": "stream",
     "text": [
      "enter your number 68\n"
     ]
    },
    {
     "name": "stdout",
     "output_type": "stream",
     "text": [
      "A2 Batch\n"
     ]
    }
   ],
   "source": [
    "marks=int(input(\"enter your number\"))\n",
    "\n",
    "if marks>=80:\n",
    "    print(\"A1 Batch\")\n",
    "elif marks>=60 and marks<80:\n",
    "    print(\"A2 Batch\")\n",
    "elif marks>=40 and marks<60:\n",
    "    print(\"A3 Batch\")\n",
    "else:\n",
    "    print(\"A4 Batch\")"
   ]
  },
  {
   "cell_type": "markdown",
   "id": "5399e7bf-8c9c-4436-9aaa-b22b2c760027",
   "metadata": {},
   "source": [
    "no outcome if no condition is satisfied, code still executed"
   ]
  },
  {
   "cell_type": "code",
   "execution_count": null,
   "id": "03e690b3-111a-42ca-be2b-40009ed37c4a",
   "metadata": {},
   "outputs": [],
   "source": [
    "price=int(input(\"enter your number\"))\n",
    "\n",
    "if price<=500:\n",
    "    print(\"Purchase\")\n",
    "else:\n",
    "    print(\"Not Purchase\")\n",
    "    if price>1000:\n",
    "        print(\"Too expensive\")     "
   ]
  },
  {
   "cell_type": "code",
   "execution_count": 17,
   "id": "7b2c1bc5-1c06-4f33-b8df-82b3f08d92bf",
   "metadata": {},
   "outputs": [],
   "source": [
    "r = [1,2,3,4,4,6,7,8]"
   ]
  },
  {
   "cell_type": "code",
   "execution_count": 18,
   "id": "4d556a64-79ca-4588-a731-ac54bf3dde53",
   "metadata": {},
   "outputs": [
    {
     "data": {
      "text/plain": [
       "2"
      ]
     },
     "execution_count": 18,
     "metadata": {},
     "output_type": "execute_result"
    }
   ],
   "source": [
    "r[0]+1"
   ]
  },
  {
   "cell_type": "code",
   "execution_count": 19,
   "id": "5da66e96-2c06-4fb6-87c9-8c1608df3a42",
   "metadata": {},
   "outputs": [],
   "source": [
    "r1=[]"
   ]
  },
  {
   "cell_type": "code",
   "execution_count": 20,
   "id": "623bd590-1812-4bb7-8467-b026901c0486",
   "metadata": {},
   "outputs": [],
   "source": [
    "r1.append(r[0]+1)"
   ]
  },
  {
   "cell_type": "code",
   "execution_count": 21,
   "id": "2acf99b6-f598-4f7b-be29-0c2ccfa02b1d",
   "metadata": {},
   "outputs": [
    {
     "data": {
      "text/plain": [
       "[2]"
      ]
     },
     "execution_count": 21,
     "metadata": {},
     "output_type": "execute_result"
    }
   ],
   "source": [
    "r1"
   ]
  },
  {
   "cell_type": "code",
   "execution_count": 29,
   "id": "ba447795-5e2b-42a0-ac47-9d4f04eae42b",
   "metadata": {},
   "outputs": [
    {
     "name": "stdout",
     "output_type": "stream",
     "text": [
      "[1, 2, 3, 4, 4, 6, 7, 8]\n",
      "[1, 2, 3, 4, 4, 6, 7, 8]\n",
      "[1, 2, 3, 4, 4, 6, 7, 8]\n",
      "[1, 2, 3, 4, 4, 6, 7, 8]\n",
      "[1, 2, 3, 4, 4, 6, 7, 8]\n",
      "[1, 2, 3, 4, 4, 6, 7, 8]\n",
      "[1, 2, 3, 4, 4, 6, 7, 8]\n",
      "[1, 2, 3, 4, 4, 6, 7, 8]\n"
     ]
    }
   ],
   "source": [
    "for s in r:\n",
    "    print(r)"
   ]
  },
  {
   "cell_type": "code",
   "execution_count": 30,
   "id": "3f87d26b-8382-46d8-8003-340011fdb292",
   "metadata": {},
   "outputs": [
    {
     "name": "stdout",
     "output_type": "stream",
     "text": [
      "1\n",
      "2\n",
      "3\n",
      "4\n",
      "4\n",
      "6\n",
      "7\n",
      "8\n"
     ]
    }
   ],
   "source": [
    "for t in r:\n",
    "    print(t)"
   ]
  },
  {
   "cell_type": "code",
   "execution_count": 31,
   "id": "99893822-c9ea-44a0-b0c8-2136ecedb731",
   "metadata": {},
   "outputs": [
    {
     "name": "stdout",
     "output_type": "stream",
     "text": [
      "2\n",
      "3\n",
      "4\n",
      "5\n",
      "5\n",
      "7\n",
      "8\n",
      "9\n"
     ]
    }
   ],
   "source": [
    "r1=[]\n",
    "for t in r:\n",
    "    print(t+1)\n",
    "    r1.append(t+1)"
   ]
  },
  {
   "cell_type": "code",
   "execution_count": 32,
   "id": "61b6c96d-bd41-448f-92a4-336b8fbbc430",
   "metadata": {},
   "outputs": [
    {
     "data": {
      "text/plain": [
       "[1, 2, 3, 4, 4, 6, 7, 8]"
      ]
     },
     "execution_count": 32,
     "metadata": {},
     "output_type": "execute_result"
    }
   ],
   "source": [
    "r"
   ]
  },
  {
   "cell_type": "code",
   "execution_count": 33,
   "id": "72dee07e-1adc-4bc0-b1ff-66f076f5849a",
   "metadata": {},
   "outputs": [
    {
     "data": {
      "text/plain": [
       "[2, 3, 4, 5, 5, 7, 8, 9]"
      ]
     },
     "execution_count": 33,
     "metadata": {},
     "output_type": "execute_result"
    }
   ],
   "source": [
    "r1"
   ]
  },
  {
   "cell_type": "markdown",
   "id": "ec729353-1228-4642-8eaa-212fe3a03168",
   "metadata": {},
   "source": [
    "Convert into capital letters"
   ]
  },
  {
   "cell_type": "code",
   "execution_count": 46,
   "id": "d72b9a87-737c-41c1-9c1e-1dc285f79d4b",
   "metadata": {},
   "outputs": [],
   "source": [
    "u=[\"ananya\",\"singh\",\"persue\",\"bca\"]"
   ]
  },
  {
   "cell_type": "code",
   "execution_count": 47,
   "id": "a795c4e7-606d-4525-9822-d5011b9c5b94",
   "metadata": {},
   "outputs": [],
   "source": [
    "u1=[]"
   ]
  },
  {
   "cell_type": "code",
   "execution_count": 48,
   "id": "a2859a75-b97f-4181-9a6b-a477de45b8c9",
   "metadata": {},
   "outputs": [
    {
     "name": "stdout",
     "output_type": "stream",
     "text": [
      "ananya\n",
      "singh\n",
      "persue\n",
      "bca\n"
     ]
    }
   ],
   "source": [
    "for i in u:\n",
    "    print(i)\n",
    "    u1.append(i.upper())"
   ]
  },
  {
   "cell_type": "code",
   "execution_count": 49,
   "id": "bc98417b-2503-4eb3-ba93-ebc8446a4351",
   "metadata": {},
   "outputs": [
    {
     "data": {
      "text/plain": [
       "['ANANYA', 'SINGH', 'PERSUE', 'BCA']"
      ]
     },
     "execution_count": 49,
     "metadata": {},
     "output_type": "execute_result"
    }
   ],
   "source": [
    "u1"
   ]
  },
  {
   "cell_type": "markdown",
   "id": "9911eff4-1848-4cee-8797-99f0ed45f742",
   "metadata": {},
   "source": [
    "Seperate numbers and alphabets from list"
   ]
  },
  {
   "cell_type": "code",
   "execution_count": 50,
   "id": "854ad319-0caf-4a09-b27f-899eed110a58",
   "metadata": {},
   "outputs": [],
   "source": [
    "v=[23,\"shiv\",\"play\",55,87,6,\"raw\"]"
   ]
  },
  {
   "cell_type": "code",
   "execution_count": 53,
   "id": "d87e05a3-1bd7-4041-ad6a-1e36e2ab1736",
   "metadata": {},
   "outputs": [],
   "source": [
    "num=[]\n",
    "alpha=[]\n",
    "\n",
    "for i in v:\n",
    "    if type(i)==int or type(i)==float:\n",
    "        num.append(i)\n",
    "    else:\n",
    "        alpha.append(i)"
   ]
  },
  {
   "cell_type": "code",
   "execution_count": 54,
   "id": "c6bcb937-6011-41cd-a4dd-d8460bf28680",
   "metadata": {},
   "outputs": [
    {
     "data": {
      "text/plain": [
       "[23, 55, 87, 6]"
      ]
     },
     "execution_count": 54,
     "metadata": {},
     "output_type": "execute_result"
    }
   ],
   "source": [
    "num"
   ]
  },
  {
   "cell_type": "code",
   "execution_count": 55,
   "id": "61da0608-c403-456a-9bb6-cc4c83ad5e97",
   "metadata": {},
   "outputs": [
    {
     "data": {
      "text/plain": [
       "['shiv', 'play', 'raw']"
      ]
     },
     "execution_count": 55,
     "metadata": {},
     "output_type": "execute_result"
    }
   ],
   "source": [
    "alpha"
   ]
  },
  {
   "cell_type": "code",
   "execution_count": null,
   "id": "c412554e-9782-42f6-ab88-b7713f04f51b",
   "metadata": {},
   "outputs": [],
   "source": []
  }
 ],
 "metadata": {
  "kernelspec": {
   "display_name": "Python 3 (ipykernel)",
   "language": "python",
   "name": "python3"
  },
  "language_info": {
   "codemirror_mode": {
    "name": "ipython",
    "version": 3
   },
   "file_extension": ".py",
   "mimetype": "text/x-python",
   "name": "python",
   "nbconvert_exporter": "python",
   "pygments_lexer": "ipython3",
   "version": "3.10.8"
  }
 },
 "nbformat": 4,
 "nbformat_minor": 5
}
